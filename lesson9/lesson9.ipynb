{
 "cells": [
  {
   "cell_type": "code",
   "execution_count": 65,
   "id": "98a09c8d-9ba9-4d61-bb64-3c5c50895091",
   "metadata": {},
   "outputs": [],
   "source": [
    "import pandas as pd"
   ]
  },
  {
   "cell_type": "code",
   "execution_count": 66,
   "id": "e11c6e3b-9d46-4b59-b1e5-2556fbb1584a",
   "metadata": {},
   "outputs": [],
   "source": [
    "titanic = pd.read_csv(r\"C:\\Users\\София\\DataProject\\lesson9\\Titanic.csv\")"
   ]
  },
  {
   "cell_type": "code",
   "execution_count": 67,
   "id": "0fe217de-99a9-4980-861d-1ca9a28f6919",
   "metadata": {},
   "outputs": [
    {
     "data": {
      "text/plain": [
       "891"
      ]
     },
     "execution_count": 67,
     "metadata": {},
     "output_type": "execute_result"
    }
   ],
   "source": [
    "titanic.PassengerId.count() # Количество пассажиров"
   ]
  },
  {
   "cell_type": "code",
   "execution_count": 68,
   "id": "c2ba039a-6536-43dd-9600-cb854d6717eb",
   "metadata": {},
   "outputs": [
    {
     "data": {
      "text/plain": [
       "29.69911764705882"
      ]
     },
     "execution_count": 68,
     "metadata": {},
     "output_type": "execute_result"
    }
   ],
   "source": [
    "titanic.Age.mean() # Средний возраст пассажира"
   ]
  },
  {
   "cell_type": "code",
   "execution_count": 76,
   "id": "0390eba9-a009-44d1-ba9c-fa2d68801032",
   "metadata": {},
   "outputs": [
    {
     "data": {
      "text/plain": [
       "32.204207968574636"
      ]
     },
     "execution_count": 76,
     "metadata": {},
     "output_type": "execute_result"
    }
   ],
   "source": [
    "titanic.Fare.mean() # Средняя стоимость билета"
   ]
  },
  {
   "cell_type": "code",
   "execution_count": 77,
   "id": "5c89c76e-cbb4-4d8d-8f52-78d84fed479c",
   "metadata": {},
   "outputs": [
    {
     "data": {
      "text/plain": [
       "0.0"
      ]
     },
     "execution_count": 77,
     "metadata": {},
     "output_type": "execute_result"
    }
   ],
   "source": [
    "titanic.Fare.min() # Минимальная цена билета"
   ]
  },
  {
   "cell_type": "code",
   "execution_count": 78,
   "id": "f33a9764-9d8f-4b91-a4eb-04a2890c025c",
   "metadata": {},
   "outputs": [
    {
     "data": {
      "text/plain": [
       "512.3292"
      ]
     },
     "execution_count": 78,
     "metadata": {},
     "output_type": "execute_result"
    }
   ],
   "source": [
    "titanic.Fare.max() # Максимальная цена билета"
   ]
  },
  {
   "cell_type": "code",
   "execution_count": 79,
   "id": "737b5d26-b902-446b-b243-360a7b51821c",
   "metadata": {},
   "outputs": [],
   "source": [
    "# titanic.loc[titanic['Fare'] == titanic.Fare.max()]"
   ]
  },
  {
   "cell_type": "code",
   "execution_count": 80,
   "id": "c2d26986-1686-43f7-bdfb-98ac9c98ece4",
   "metadata": {},
   "outputs": [
    {
     "data": {
      "text/plain": [
       "258                      Ward, Miss. Anna\n",
       "679    Cardeza, Mr. Thomas Drake Martinez\n",
       "737                Lesurer, Mr. Gustave J\n",
       "Name: Name, dtype: object"
      ]
     },
     "execution_count": 80,
     "metadata": {},
     "output_type": "execute_result"
    }
   ],
   "source": [
    "titanic.Name[titanic.Fare == titanic.Fare.max()] # Пассажир с максимальной ценой билета"
   ]
  },
  {
   "cell_type": "code",
   "execution_count": 81,
   "id": "31602ba3-772a-449f-958d-b27406412eb6",
   "metadata": {},
   "outputs": [],
   "source": [
    "# titanic.loc[titanic['Sex'] == 'male', 'Age'].mean()"
   ]
  },
  {
   "cell_type": "code",
   "execution_count": 82,
   "id": "ef28266f-37aa-4dae-8e1e-e53041dee3ae",
   "metadata": {},
   "outputs": [
    {
     "data": {
      "text/plain": [
       "30.72664459161148"
      ]
     },
     "execution_count": 82,
     "metadata": {},
     "output_type": "execute_result"
    }
   ],
   "source": [
    "titanic.Age[titanic.Sex == \"male\"].mean() # Средний возраст мужчин"
   ]
  },
  {
   "cell_type": "code",
   "execution_count": 83,
   "id": "37a55d23-50ec-409a-aae3-81569cd4ea8c",
   "metadata": {},
   "outputs": [],
   "source": [
    "# titanic.loc[titanic['Sex'] == 'female', 'Age'].mean()"
   ]
  },
  {
   "cell_type": "code",
   "execution_count": 84,
   "id": "c888647e-7f2c-4bcd-a2dc-861746d6206f",
   "metadata": {},
   "outputs": [
    {
     "data": {
      "text/plain": [
       "27.915708812260537"
      ]
     },
     "execution_count": 84,
     "metadata": {},
     "output_type": "execute_result"
    }
   ],
   "source": [
    "titanic.Age[titanic.Sex == \"female\"].mean() # Средний возраст женщин"
   ]
  },
  {
   "cell_type": "code",
   "execution_count": 85,
   "id": "5155a4f2-962e-44bb-8be4-0b5e005db1a9",
   "metadata": {},
   "outputs": [],
   "source": [
    "# titanic.loc[titanic['Sex'] == 'male', 'Survived'].mean()"
   ]
  },
  {
   "cell_type": "code",
   "execution_count": 86,
   "id": "2d46064a-9f8d-4965-9fe8-315c9f44b706",
   "metadata": {},
   "outputs": [
    {
     "data": {
      "text/plain": [
       "0.18890814558058924"
      ]
     },
     "execution_count": 86,
     "metadata": {},
     "output_type": "execute_result"
    }
   ],
   "source": [
    "titanic.Survived[titanic.Sex == \"male\"].mean() # Средний процент выживаемости мужчин"
   ]
  },
  {
   "cell_type": "code",
   "execution_count": 87,
   "id": "4d908047-c281-481c-91d6-1bef04c44296",
   "metadata": {},
   "outputs": [],
   "source": [
    "# titanic.loc[titanic['Sex'] == 'female', 'Survived'].mean()"
   ]
  },
  {
   "cell_type": "code",
   "execution_count": 88,
   "id": "74e9b708-0c56-4514-a0ea-ed08b27d5f7d",
   "metadata": {},
   "outputs": [
    {
     "data": {
      "text/plain": [
       "0.7420382165605095"
      ]
     },
     "execution_count": 88,
     "metadata": {},
     "output_type": "execute_result"
    }
   ],
   "source": [
    "titanic.Survived[titanic.Sex == \"female\"].mean() # Средний процент выживаемости женщин"
   ]
  },
  {
   "cell_type": "code",
   "execution_count": 89,
   "id": "fe0fe04d-d0f8-424f-a0a5-6420a71a7052",
   "metadata": {},
   "outputs": [
    {
     "data": {
      "text/plain": [
       "Pclass\n",
       "1    84.154687\n",
       "2    20.662183\n",
       "3    13.675550\n",
       "Name: Fare, dtype: float64"
      ]
     },
     "execution_count": 89,
     "metadata": {},
     "output_type": "execute_result"
    }
   ],
   "source": [
    "titanic.groupby('Pclass')['Fare'].mean() # Средняя стоимость билета в зависимости от класса проживания"
   ]
  },
  {
   "cell_type": "code",
   "execution_count": 90,
   "id": "195bc487-967a-4263-8ddd-ded44c3f3841",
   "metadata": {},
   "outputs": [
    {
     "data": {
      "text/plain": [
       "Pclass\n",
       "3    491\n",
       "1    216\n",
       "2    184\n",
       "Name: count, dtype: int64"
      ]
     },
     "execution_count": 90,
     "metadata": {},
     "output_type": "execute_result"
    }
   ],
   "source": [
    "titanic['Pclass'].value_counts() # Количество билетов по классам проживания"
   ]
  },
  {
   "cell_type": "code",
   "execution_count": 91,
   "id": "647f6e67-498e-4b9c-a0be-1f995c8afd73",
   "metadata": {},
   "outputs": [
    {
     "data": {
      "text/plain": [
       "342"
      ]
     },
     "execution_count": 91,
     "metadata": {},
     "output_type": "execute_result"
    }
   ],
   "source": [
    "titanic['Survived'].sum() # Количество выживших пассажиров"
   ]
  }
 ],
 "metadata": {
  "kernelspec": {
   "display_name": "Python 3 (ipykernel)",
   "language": "python",
   "name": "python3"
  },
  "language_info": {
   "codemirror_mode": {
    "name": "ipython",
    "version": 3
   },
   "file_extension": ".py",
   "mimetype": "text/x-python",
   "name": "python",
   "nbconvert_exporter": "python",
   "pygments_lexer": "ipython3",
   "version": "3.11.1"
  }
 },
 "nbformat": 4,
 "nbformat_minor": 5
}
